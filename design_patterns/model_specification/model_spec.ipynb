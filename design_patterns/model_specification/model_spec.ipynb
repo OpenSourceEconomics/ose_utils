{
 "cells": [
  {
   "cell_type": "markdown",
   "metadata": {
    "slideshow": {
     "slide_type": "slide"
    }
   },
   "source": [
    "# Design template: Model specification"
   ]
  },
  {
   "cell_type": "markdown",
   "metadata": {
    "slideshow": {
     "slide_type": "slide"
    }
   },
   "source": [
    "This notebook hosts a template for model specifications in OpenSourceEconomics. As an example, we consider the model of a simple $AR(1)$ process. \n",
    "\n",
    "\\begin{align*}\n",
    "x_{t + 1} = \\rho x_t + \\epsilon_t,\\quad\\text{for}\\quad t = 1, ..., T\n",
    "\\end{align*}\n",
    "\n",
    "with $x_t = 0$ and $\\epsilon_t \\sim N(0, 1)$. There are two remaiing parameters, $\\rho$ the level of serial correlation and $T$ the number of time periods. We can think of $\\rho$ as parameter to be estimated and thus updated during an estimation and $T$ as set throughout."
   ]
  },
  {
   "cell_type": "code",
   "execution_count": 1,
   "metadata": {
    "slideshow": {
     "slide_type": "slide"
    }
   },
   "outputs": [],
   "source": [
    "import pathlib\n",
    "import yaml\n",
    "import copy\n",
    "\n",
    "import numpy as np\n",
    "\n",
    "# The use of the typing module requires the use of\n",
    "# Python 3.6 or higher.\n",
    "import typing"
   ]
  },
  {
   "cell_type": "markdown",
   "metadata": {
    "slideshow": {
     "slide_type": "-"
    }
   },
   "source": [
    "We will build on the [NamedTuple](https://docs.python.org/2/library/collections.html#collections.namedtuple) from the Python standard library. It is a simple extension of the standard tuple where all elements can be accessed by field names as well. This ensures that our model specification remains immutable throughout after initialiation."
   ]
  },
  {
   "cell_type": "code",
   "execution_count": 2,
   "metadata": {
    "slideshow": {
     "slide_type": "slide"
    }
   },
   "outputs": [],
   "source": [
    "class ModelSpec(typing.NamedTuple):\n",
    "    \"\"\"Model specification.\n",
    "     \n",
    "    Class that contains all the information required to simulate\n",
    "    a specified AR(1) process. It is the one an central place\n",
    "    that contains this information throughout. It is an extended\n",
    "    version of a namedtuple and thus ensures that model specification\n",
    "    remains immutable.\n",
    "     \n",
    "    Attributes:\n",
    "        rho: a float indicating the degree of serial correlation\n",
    "        periods: an integer for the length of the time horizon\n",
    "    \"\"\"\n",
    "    # We need to define all fields and their type right at the\n",
    "    # beginning. These cannot be changed after initialization\n",
    "    # and no other fields added dynamically without raising\n",
    "    # an error.\n",
    "    periods: int\n",
    "    rho: float\n",
    "        \n",
    "    # We make some of the private methods of the base class\n",
    "    # public.\n",
    "    def as_dict(self):\n",
    "        return self._asdict()\n",
    "    \n",
    "    def replace(self, *args, **kwargs):\n",
    "        return self._replace(*args, **kwargs)\n",
    "    \n",
    "    # We write wrappers for common use cases.\n",
    "    def copy(self):\n",
    "        return copy.deepcopy(self)\n",
    "\n",
    "    # We specify some methods that have no counterpart in the \n",
    "    # base class.\n",
    "    def to_yaml(self, fname='test.yml'):\n",
    "        with open(fname, 'w') as out_file:\n",
    "            yaml.dump(self._asdict(), out_file)\n",
    "    \n",
    "    def validate(self):\n",
    "        \"\"\"Validation of model specification.\n",
    "        \n",
    "        All validation is done here and no further checks are \n",
    "        necessary later in the program for the immutable \n",
    "        parameters describing the model. The for-loop ensures that \n",
    "        all fields require exlicit checks.\n",
    "        \"\"\"\n",
    "        for field in self._fields:\n",
    "            attr = getattr(self, field)\n",
    "            if field == 'periods':\n",
    "                assert isinstance(attr, int)\n",
    "                assert attr > 0\n",
    "            elif field == 'rho':\n",
    "                assert isinstance(attr, float)\n",
    "            else:\n",
    "                raise NotImplementedError('validation of {:} missing'.format(field))\n",
    "    \n",
    "    # We ovewrite some of the intrinsic __dunder__ methods to increase\n",
    "    # usability of our class.\n",
    "    def __repr__(self):\n",
    "        \"\"\"Provides a string representation of the model speficiation for\n",
    "        quick visual inspection.\n",
    "        \"\"\"\n",
    "        str_ = ''\n",
    "        for field in self._fields:\n",
    "            str_ +='{:}: {:}\\n'.format(field, getattr(self, field))\n",
    "        return str_\n",
    "    \n",
    "    def __eq__(self, other):\n",
    "        \"\"\"Check the equality of two model specifications.\n",
    "        \n",
    "        Returns true if two model specifications have the same fields defined\n",
    "        and all have the same value.\n",
    "        \n",
    "        Args:\n",
    "            other: A ModelSpec class instance.\n",
    "        \n",
    "        Returns:\n",
    "            A boolean corresponding to equality of specifications.\n",
    "        \"\"\"\n",
    "        assert isinstance(other, type(self))\n",
    "        assert set(spec_1._fields) == set(spec_2._fields)\n",
    "        for field in self._fields:\n",
    "            if getattr(self, field) != getattr(other, field):\n",
    "                return False\n",
    "        return True\n",
    " \n",
    "    def __ne__(self, other):\n",
    "        \"\"\"Check the inequality of two model specification.\"\"\"\n",
    "        return not self.__eq__(other)"
   ]
  },
  {
   "cell_type": "code",
   "execution_count": 3,
   "metadata": {
    "slideshow": {
     "slide_type": "slide"
    }
   },
   "outputs": [],
   "source": [
    "def get_random_model_specification(constr=None):\n",
    "    \"\"\"Create a random model specification\n",
    "    \n",
    "    Creates a random specification of the model which is useful \n",
    "    for testing the robustness of implementation and testing\n",
    "    in general.\n",
    "    \n",
    "    Args:\n",
    "        constr: A dictionary that contains the requested constrains.\n",
    "            The keys correspond to the field that is set to the value\n",
    "            field.\n",
    "            \n",
    "            {'periods': 4, 'rho': 0.4}\n",
    "    \"\"\"\n",
    "    def process_constraints(constr):\n",
    "        \"\"\"Impose a constraint on initialization dictionary.\n",
    "        \n",
    "        This function processes all constraints passed in by the user \n",
    "        for the random model specification.\n",
    "        \n",
    "        Args:\n",
    "            constr: A dictionary which contains the constraints. \n",
    "        \"\"\" \n",
    "        if constr is None:\n",
    "            constr = dict()\n",
    "            \n",
    "        if constr.get('periods'):\n",
    "            init_dict['periods'] = constr['periods']\n",
    "        if constr.get('rho'):\n",
    "            init_dict['rho'] = constr['rho']\n",
    "    \n",
    "    init_dict = dict()\n",
    "    init_dict['rho'] = np.random.uniform(0.01, 0.99)\n",
    "    init_dict['periods'] = np.random.randint(1, 10)\n",
    "        \n",
    "    process_constraints(constr)\n",
    "        \n",
    "    return init_dict"
   ]
  },
  {
   "cell_type": "code",
   "execution_count": 4,
   "metadata": {
    "slideshow": {
     "slide_type": "slide"
    }
   },
   "outputs": [],
   "source": [
    "def get_model_obj(source=None, constr=None):\n",
    "    \"\"\"Get model specification.\n",
    "    \n",
    "    This is a factory method to create a model spefication from\n",
    "    a variety of differnt input types.\n",
    "    \n",
    "    Args:\n",
    "        input: str, dictionary, None specifying the input for\n",
    "            for the model specification.\n",
    "        constr: A dictionary with the constraints imposed\n",
    "            on a random initialization file.\n",
    "    \n",
    "    Returns:\n",
    "        An instance of the ModelSpec class with the model\n",
    "        specification.\n",
    "    \"\"\"    \n",
    "    # We want to enforce the use of Path objects going forward.\n",
    "    if isinstance(source, str):\n",
    "        source = pathlib.Path(source)\n",
    " \n",
    "    if isinstance(source, dict):\n",
    "        model_spec = ModelSpec(**source)\n",
    "    elif isinstance(source, pathlib.PosixPath):\n",
    "        model_spec = ModelSpec(**yaml.load(open(source, 'r'), Loader=yaml.FullLoader))\n",
    "    elif source is None:\n",
    "        model_spec = ModelSpec(**get_random_model_specification(constr))\n",
    "    else:\n",
    "        raise NotImplementedError\n",
    "    \n",
    "    # We validate our model specification once and for all. \n",
    "    # Unfortunately, there is no way to do so at class\n",
    "    # initialization as we cannot override the __new__\n",
    "    # method.\n",
    "    model_spec.validate()\n",
    "\n",
    "    return model_spec"
   ]
  },
  {
   "cell_type": "markdown",
   "metadata": {
    "slideshow": {
     "slide_type": "slide"
    }
   },
   "source": [
    "# Use cases \n",
    "\n",
    "We want to explore some use cases with the proposed setup to test is usability."
   ]
  },
  {
   "cell_type": "markdown",
   "metadata": {
    "slideshow": {
     "slide_type": "slide"
    }
   },
   "source": [
    "* We can specify a model programmatically using a dictionary or read it in from a specification file."
   ]
  },
  {
   "cell_type": "code",
   "execution_count": 5,
   "metadata": {
    "slideshow": {
     "slide_type": "-"
    }
   },
   "outputs": [],
   "source": [
    "init_dict = {'rho': 0.5, 'periods': 10}\n",
    "spec = get_model_obj(init_dict);"
   ]
  },
  {
   "cell_type": "code",
   "execution_count": 6,
   "metadata": {
    "slideshow": {
     "slide_type": "-"
    }
   },
   "outputs": [],
   "source": [
    "# %load model_spec.yml\n",
    "periods: 2\n",
    "rho: 0.5\n",
    "    \n",
    "spec = get_model_obj('model_spec.yml')"
   ]
  },
  {
   "cell_type": "markdown",
   "metadata": {
    "slideshow": {
     "slide_type": "slide"
    }
   },
   "source": [
    "* We want to easily access all fields."
   ]
  },
  {
   "cell_type": "code",
   "execution_count": 7,
   "metadata": {
    "slideshow": {
     "slide_type": "-"
    }
   },
   "outputs": [
    {
     "name": "stdout",
     "output_type": "stream",
     "text": [
      "periods 3\n",
      "rho 0.5720901984041954\n"
     ]
    }
   ],
   "source": [
    "spec = get_model_obj()\n",
    "print('periods', spec.periods)\n",
    "print('rho', spec.rho)"
   ]
  },
  {
   "cell_type": "markdown",
   "metadata": {
    "slideshow": {
     "slide_type": "slide"
    }
   },
   "source": [
    "* We want to easily compare different model specifications."
   ]
  },
  {
   "cell_type": "code",
   "execution_count": 10,
   "metadata": {
    "slideshow": {
     "slide_type": "-"
    }
   },
   "outputs": [],
   "source": [
    "spec_1 = get_model_obj()\n",
    "spec_2 = spec_1.replace(rho=0.9)\n",
    "assert spec_1 != spec_2\n",
    "\n",
    "spec_1 = get_model_obj()\n",
    "spec_2 = spec_1.copy()\n",
    "assert spec_1 == spec_2"
   ]
  },
  {
   "cell_type": "markdown",
   "metadata": {
    "slideshow": {
     "slide_type": "slide"
    }
   },
   "source": [
    "* We want to be able to update the parameters of the model specification during an optimization.\n",
    "\n",
    "> This part will be influenced by the final design of the estimagic class."
   ]
  },
  {
   "cell_type": "code",
   "execution_count": 11,
   "metadata": {
    "slideshow": {
     "slide_type": "-"
    }
   },
   "outputs": [],
   "source": [
    "spec_1 = get_model_obj()\n",
    "spec_2 = spec_1.replace(rho=0.9, periods=3)\n",
    "\n",
    "spec_3 = spec_1.replace(**{'rho': 0.9, 'periods': 3})\n",
    "assert spec_2 == spec_3"
   ]
  },
  {
   "cell_type": "markdown",
   "metadata": {
    "slideshow": {
     "slide_type": "slide"
    }
   },
   "source": [
    "* We want to be able to go back and forth between the different ways a model is stored."
   ]
  },
  {
   "cell_type": "code",
   "execution_count": 12,
   "metadata": {
    "slideshow": {
     "slide_type": "-"
    }
   },
   "outputs": [],
   "source": [
    "for _ in range(100):\n",
    "    spec_1 = get_model_obj()\n",
    "    spec_1.to_yaml()\n",
    "\n",
    "    spec_2 = get_model_obj('test.yml')\n",
    "    assert spec_1 == spec_2\n",
    "\n",
    "    spec_3 = get_model_obj(pathlib.Path('test.yml'))\n",
    "    assert spec_1 == spec_3\n",
    "    \n",
    "    spec_4 = get_model_obj(spec_1.as_dict())\n",
    "    assert spec_1 == spec_4"
   ]
  },
  {
   "cell_type": "markdown",
   "metadata": {
    "slideshow": {
     "slide_type": "slide"
    }
   },
   "source": [
    "* We want to easily validate the integrity of our model specification."
   ]
  },
  {
   "cell_type": "code",
   "execution_count": 13,
   "metadata": {
    "slideshow": {
     "slide_type": "-"
    }
   },
   "outputs": [],
   "source": [
    "for _ in range(100):\n",
    "    spec = get_model_obj()\n",
    "    spec.validate()"
   ]
  },
  {
   "cell_type": "markdown",
   "metadata": {
    "slideshow": {
     "slide_type": "slide"
    }
   },
   "source": [
    "* We want to easily inspect the model specification."
   ]
  },
  {
   "cell_type": "code",
   "execution_count": 14,
   "metadata": {
    "slideshow": {
     "slide_type": "-"
    }
   },
   "outputs": [
    {
     "name": "stdout",
     "output_type": "stream",
     "text": [
      "periods: 1\n",
      "rho: 0.08178924397625818\n",
      "\n"
     ]
    }
   ],
   "source": [
    "spec = get_model_obj()\n",
    "print(spec)"
   ]
  },
  {
   "cell_type": "markdown",
   "metadata": {
    "slideshow": {
     "slide_type": "slide"
    }
   },
   "source": [
    "* We do not want to change parts of our model specification by accident."
   ]
  },
  {
   "cell_type": "code",
   "execution_count": 15,
   "metadata": {
    "slideshow": {
     "slide_type": "-"
    }
   },
   "outputs": [],
   "source": [
    "spec = get_model_obj()\n",
    "\n",
    "# We cannot change a field already defined.\n",
    "with np.testing.assert_raises(AttributeError):\n",
    "    spec.periods = 1\n",
    "\n",
    "# We cannot add a field dynamically.\n",
    "spec_1 = spec.copy()\n",
    "with np.testing.assert_raises(AttributeError):\n",
    "    spec.period = 1 "
   ]
  },
  {
   "cell_type": "markdown",
   "metadata": {
    "slideshow": {
     "slide_type": "slide"
    }
   },
   "source": [
    "## Integration\n",
    "\n",
    "This model class can then be used to work with the specified model."
   ]
  },
  {
   "cell_type": "code",
   "execution_count": 16,
   "metadata": {
    "slideshow": {
     "slide_type": "-"
    }
   },
   "outputs": [],
   "source": [
    "def simulate(model_spec):\n",
    "    \"\"\"Simulate AR(1) process.\n",
    "    \n",
    "    This function simulates a simple AR(1) process based\n",
    "    on the model specification passed in.\n",
    "    \n",
    "    Args:\n",
    "        model_spec: An instance of the ModelSpec class.\n",
    "    \"\"\"\n",
    "    assert isinstance(model_spec, ModelSpec)\n",
    "    \n",
    "    sequence = np.tile(np.nan, model_spec.periods)\n",
    "    sequence[0] = 0\n",
    "    for i in range(1, model_spec.periods):\n",
    "        sequence[i] = np.random.normal() + model_spec.rho * sequence[i - 1]\n",
    "    return sequence\n",
    "\n",
    "model_spec = get_model_obj('test.yml')\n",
    "simulate(model_spec);"
   ]
  },
  {
   "cell_type": "markdown",
   "metadata": {
    "slideshow": {
     "slide_type": "slide"
    }
   },
   "source": [
    "We can then combine the testing features."
   ]
  },
  {
   "cell_type": "code",
   "execution_count": 17,
   "metadata": {
    "slideshow": {
     "slide_type": "-"
    }
   },
   "outputs": [],
   "source": [
    "for _ in range(100):\n",
    "    rslt = simulate(get_model_obj())\n",
    "    assert np.isnan(rslt).any() == False"
   ]
  },
  {
   "cell_type": "markdown",
   "metadata": {
    "slideshow": {
     "slide_type": "slide"
    }
   },
   "source": [
    "# Additional resources\n",
    "\n",
    "* https://paramtools.readthedocs.io is an attempt to conduct a similar effort. It appears general in the sense that the constraints we define in the validate() method are specified in an external file thus increaseing portability across different model types. This is worthwile to follow along.\n",
    "\n",
    "# Comments\n",
    "\n",
    "Please submit comments as GitHub issues with the label **dp-model-specification**.\n",
    "\n",
    "# Extensions\n",
    "\n",
    "* Extend template to explicitly deal with nested model specifictions. For example, as in `init_dict['BASICS']['num_agents']`."
   ]
  }
 ],
 "metadata": {
  "kernelspec": {
   "display_name": "Python 3",
   "language": "python",
   "name": "python3"
  },
  "language_info": {
   "codemirror_mode": {
    "name": "ipython",
    "version": 3
   },
   "file_extension": ".py",
   "mimetype": "text/x-python",
   "name": "python",
   "nbconvert_exporter": "python",
   "pygments_lexer": "ipython3",
   "version": "3.7.2"
  }
 },
 "nbformat": 4,
 "nbformat_minor": 2
}
