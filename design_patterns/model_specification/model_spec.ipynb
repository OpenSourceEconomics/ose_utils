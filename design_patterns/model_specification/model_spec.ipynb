{
 "cells": [
  {
   "cell_type": "markdown",
   "metadata": {},
   "source": [
    "## TODO\n",
    "\n",
    "* impose a naming convention\n",
    "* add some background on example model\n",
    "* nested field structure, for example BASICS: periods, PARAMETERS: rho, which mimics the respy/soepy/norpy structure"
   ]
  },
  {
   "cell_type": "markdown",
   "metadata": {},
   "source": [
    "This notebook hosts some ideas for how to set up a model specification in our OSE projects."
   ]
  },
  {
   "cell_type": "code",
   "execution_count": 25,
   "metadata": {},
   "outputs": [],
   "source": [
    "from collections import namedtuple\n",
    "import pathlib\n",
    "import copy\n",
    "\n",
    "import numpy as np\n",
    "import yaml\n",
    "\n",
    "# This is where once and for all the model parameters are defined.\n",
    "fields = ['rho', 'periods']\n",
    "\n",
    "class ModelCls(namedtuple('model_base', ' '.join(fields))):\n",
    " \n",
    "    def __eq__(self, other):\n",
    "        assert isinstance(other, type(self))\n",
    "        assert set(spec_1._fields) == set(spec_2._fields)\n",
    "        for field in self._fields:\n",
    "            if getattr(self, field) != getattr(other, field):\n",
    "                return False\n",
    "        return True\n",
    "    \n",
    "    def copy(self):\n",
    "        return copy.deepcopy(self)\n",
    "    \n",
    "    def __ne__(self, other):\n",
    "        return not self.__eq__(other)\n",
    "    \n",
    "    def __repr__(self):\n",
    "        str_ = ''\n",
    "        for field in self._fields:\n",
    "            str_ +='{:}: {:}\\n'.format(field, getattr(self, field))\n",
    "        return str_\n",
    "    \n",
    "    def as_dict(self):\n",
    "        return self._asdict()\n",
    "    \n",
    "    def replace(self, *args, **kwargs):\n",
    "        return self._replace(*args, **kwargs)\n",
    "    \n",
    "    def to_yaml(self, fname='test.yml'):\n",
    "        with open(fname, 'w') as out_file:\n",
    "            yaml.dump(self._asdict(), out_file)\n",
    "            \n",
    "    def validate(self):\n",
    "        '''This method validates the model specification. All validation is done here and no further checks \n",
    "        are necessary later in the program for the immutable parameters describing the model.\n",
    "        \n",
    "        The design ensures that all fields require exlicit checks.\n",
    "        '''\n",
    "        for field in self._fields:\n",
    "            if field == 'periods':\n",
    "                attr = getattr(self, field)\n",
    "                assert isinstance(attr, int)\n",
    "                assert attr > 0\n",
    "            elif field == 'rho':\n",
    "                attr = getattr(self, field)\n",
    "                assert isinstance(attr, float)\n",
    "            else:\n",
    "                raise NotImplementedError('validation of {:} missing'.format(field))\n",
    "                \n",
    "def generate_random_init(constr=dict()):\n",
    "    def process_constraints(constr):\n",
    "        '''This function processes all constraints passed in by the user for the random model specification.'''\n",
    "        if constr.get('periods'):\n",
    "            init_dict['periods'] = constr['periods']\n",
    "        if constr.get('rho'):\n",
    "            init_dict['rho'] = constr['rho']\n",
    "    \n",
    "    init_dict = dict()\n",
    "    init_dict['rho'] = np.random.uniform(0.01, 0.99)\n",
    "    init_dict['periods'] = np.random.randint(1, 10)\n",
    "        \n",
    "    process_constraints(constr)\n",
    "        \n",
    "    return init_dict\n",
    "    \n",
    "def get_model_obj(input_, constr=dict()):\n",
    "    \"\"\"This is a factory method to create a model spefication from a variety of inputs.\"\"\"    \n",
    "    # We want to enforce the use of Path objects going forward.\n",
    "    if isinstance(input_, str):\n",
    "        input_ = pathlib.Path(input_)\n",
    " \n",
    "    if isinstance(input_, dict):\n",
    "        model_spec = ModelCls(**input_)\n",
    "    elif isinstance(input_, pathlib.PosixPath):\n",
    "        model_spec = ModelCls(**yaml.load(open(input_, 'r'), Loader=yaml.FullLoader))\n",
    "    elif input_ is None:\n",
    "        model_spec = ModelCls(**generate_random_init(constr))\n",
    "    else:\n",
    "        raise NotImplementedError\n",
    "\n",
    "    model_spec.validate()\n",
    "\n",
    "    return model_spec"
   ]
  },
  {
   "cell_type": "markdown",
   "metadata": {},
   "source": [
    "## Use cases \n",
    "\n",
    "We want to explore some use cases with a basic model and translate them into tests."
   ]
  },
  {
   "cell_type": "markdown",
   "metadata": {},
   "source": [
    "We can specify a model programmatically using a dictionary."
   ]
  },
  {
   "cell_type": "code",
   "execution_count": 9,
   "metadata": {},
   "outputs": [],
   "source": [
    "init_dict = {'rho': 0.5, 'periods': 10}\n",
    "get_model_obj(init_dict);"
   ]
  },
  {
   "cell_type": "markdown",
   "metadata": {},
   "source": [
    "As an alternative we can also read it in from a *.yml* file."
   ]
  },
  {
   "cell_type": "code",
   "execution_count": 10,
   "metadata": {},
   "outputs": [],
   "source": [
    "# %load model_spec.yml\n",
    "periods: 2\n",
    "rho: 0.5\n",
    "    \n",
    "get_model_obj('test.yml');"
   ]
  },
  {
   "cell_type": "markdown",
   "metadata": {},
   "source": [
    "* We want to be able to update the parameters of the model specification during an optimization."
   ]
  },
  {
   "cell_type": "code",
   "execution_count": 11,
   "metadata": {},
   "outputs": [],
   "source": [
    "spec_1 = get_model_obj(None)\n",
    "spec_2 = spec_1.replace(rho=0.9)"
   ]
  },
  {
   "cell_type": "markdown",
   "metadata": {},
   "source": [
    "* We want to easily compare different model specifications."
   ]
  },
  {
   "cell_type": "code",
   "execution_count": 12,
   "metadata": {},
   "outputs": [],
   "source": [
    "spec_1 = get_model_obj(None)\n",
    "assert spec_1 != spec_1.replace(rho=0.9)\n",
    "\n",
    "spec_1 = get_model_obj(None)\n",
    "spec_2 = spec_1.copy()\n",
    "assert spec_1 == spec_2"
   ]
  },
  {
   "cell_type": "markdown",
   "metadata": {},
   "source": [
    "* We want to be able to go back and forth between the different ways a model is stored."
   ]
  },
  {
   "cell_type": "code",
   "execution_count": 24,
   "metadata": {},
   "outputs": [],
   "source": [
    "for _ in range(100):\n",
    "    spec_1 = get_model_obj(None)\n",
    "    spec_1.to_yaml()\n",
    "\n",
    "    spec_2 = get_model_obj('test.yml')\n",
    "    assert spec_1 == spec_2\n",
    "\n",
    "    spec_3 = get_model_obj(pathlib.Path('test.yml'))\n",
    "    assert spec_1 == spec_3\n",
    "    \n",
    "    spec_4 = get_model_obj(spec_1.as_dict())\n",
    "    assert spec_1 == spec_4"
   ]
  },
  {
   "cell_type": "markdown",
   "metadata": {},
   "source": [
    "* We want to easily validate the integrity of our model specification."
   ]
  },
  {
   "cell_type": "code",
   "execution_count": 14,
   "metadata": {},
   "outputs": [],
   "source": [
    "for _ in range(100):\n",
    "    spec = get_model_obj(None)\n",
    "    spec.validate()"
   ]
  },
  {
   "cell_type": "markdown",
   "metadata": {},
   "source": [
    "* We want to easily access all fields."
   ]
  },
  {
   "cell_type": "code",
   "execution_count": 15,
   "metadata": {},
   "outputs": [],
   "source": [
    "for _ in range(100):\n",
    "    spec = get_model_obj(None)\n",
    "    for field in spec._fields:\n",
    "        field, getattr(spec, field)"
   ]
  },
  {
   "cell_type": "markdown",
   "metadata": {},
   "source": [
    "* We want to easily inspect the model specification."
   ]
  },
  {
   "cell_type": "code",
   "execution_count": 16,
   "metadata": {},
   "outputs": [
    {
     "name": "stdout",
     "output_type": "stream",
     "text": [
      "rho: 0.28615267980194814\n",
      "periods: 3\n",
      "\n"
     ]
    }
   ],
   "source": [
    "spec = get_model_obj(None)\n",
    "print(spec)"
   ]
  },
  {
   "cell_type": "markdown",
   "metadata": {},
   "source": [
    "* We do not want to change parts of our model specification by accident."
   ]
  },
  {
   "cell_type": "code",
   "execution_count": 17,
   "metadata": {},
   "outputs": [],
   "source": [
    "spec = get_model_obj(None)\n",
    "\n",
    "# We cannot change a field already defined.\n",
    "with np.testing.assert_raises(AttributeError):\n",
    "    spec.periods = 1\n",
    "\n",
    "# We cannot add a field dynamically.\n",
    "spec_1 = spec.copy()\n",
    "spec.period = 1 \n",
    "# Note that the statement above does not throw an error though.\n",
    "# It simply does not have any effect\n",
    "assert set(spec._fields) == set(['rho', 'periods'])"
   ]
  },
  {
   "cell_type": "markdown",
   "metadata": {},
   "source": [
    "## Integration\n",
    "\n",
    "This model class can then be used to work with the specified model."
   ]
  },
  {
   "cell_type": "code",
   "execution_count": 18,
   "metadata": {},
   "outputs": [],
   "source": [
    "def simulate(model_spec):\n",
    "    '''This function simulates a simple AR(1) process.'''\n",
    "    assert isinstance(model_spec, ModelCls)\n",
    "    \n",
    "    sequence = np.tile(np.nan, model_spec.periods)\n",
    "    sequence[0] = np.random.normal()\n",
    "    for i in range(1, model_spec.periods):\n",
    "        sequence[i] = np.random.normal() + model_spec.rho * sequence[i - 1]\n",
    "    return sequence\n",
    "\n",
    "model_spec = get_model_obj('test.yml')\n",
    "simulate(model_spec);"
   ]
  },
  {
   "cell_type": "markdown",
   "metadata": {},
   "source": [
    "We can then combine the testing features."
   ]
  },
  {
   "cell_type": "code",
   "execution_count": 19,
   "metadata": {},
   "outputs": [],
   "source": [
    "for _ in range(100):\n",
    "    rslt = simulate(get_model_obj(None))\n",
    "    assert np.isnan(rslt).any() == False"
   ]
  }
 ],
 "metadata": {
  "kernelspec": {
   "display_name": "Python 3",
   "language": "python",
   "name": "python3"
  },
  "language_info": {
   "codemirror_mode": {
    "name": "ipython",
    "version": 3
   },
   "file_extension": ".py",
   "mimetype": "text/x-python",
   "name": "python",
   "nbconvert_exporter": "python",
   "pygments_lexer": "ipython3",
   "version": "3.7.2"
  }
 },
 "nbformat": 4,
 "nbformat_minor": 2
}
