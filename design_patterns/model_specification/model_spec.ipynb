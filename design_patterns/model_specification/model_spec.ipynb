{
 "cells": [
  {
   "cell_type": "markdown",
   "metadata": {},
   "source": [
    "# Design template: Model specification\n",
    "\n",
    "This notebook hosts a template for model specification in OpenSourceEconomics. As an example, we consider the model of a simple $AR(1)$ process. \n",
    "\n",
    "\\begin{align*}\n",
    "x_{t + 1} = \\rho x_t + \\epsilon_t,\\quad\\text{for}\\quad t = 1, ..., T\n",
    "\\end{align*}\n",
    "\n",
    "with $x_t = 0$ and $\\epsilon_t \\sim N(0, 1)$. There are two remaiing parameters, $\\rho$ the level of serial correlation and $T$ the number of time periods. We can think of $\\rho$ as parameter to be estimated and thus updated during an estimation and $T$ as set throughout."
   ]
  },
  {
   "cell_type": "code",
   "execution_count": 1,
   "metadata": {},
   "outputs": [],
   "source": [
    "from collections import namedtuple\n",
    "import pathlib\n",
    "import copy\n",
    "\n",
    "import numpy as np\n",
    "import yaml\n",
    "\n",
    "# We use a namedtuple as a base class and define all valid fields\n",
    "# here.\n",
    "fields = ['rho', 'periods']\n",
    "ModelBase = namedtuple('ModelBase', ' '.join(fields))\n",
    "\n",
    "class ModelSpec(ModelBase):\n",
    "    \"\"\"Model Specifiction.\n",
    "     \n",
    "    Class that contains all the information required to simulate\n",
    "    a specified AR(1) process. It is the one an central place\n",
    "    that contains this information throughout. It is an extended\n",
    "    version of a namedtuple and thus ensures that model specification\n",
    "    remains immutable.\n",
    "     \n",
    "    Attributes:\n",
    "        rho: a float indicating the degree of serial correlation\n",
    "        periods: an integer for the length of the time horizon\n",
    "     \n",
    "    \"\"\"\n",
    "    def copy(self):\n",
    "        return copy.deepcopy(self)\n",
    "    \n",
    "    def as_dict(self):\n",
    "        return self._asdict()\n",
    "    \n",
    "    def replace(self, *args, **kwargs):\n",
    "        return self._replace(*args, **kwargs)\n",
    "    \n",
    "    def to_yaml(self, fname='test.yml'):\n",
    "        with open(fname, 'w') as out_file:\n",
    "            yaml.dump(self._asdict(), out_file)\n",
    "            \n",
    "    def validate(self):\n",
    "        \"\"\"This method validates the model specification. All validation is done here and no further checks \n",
    "        are necessary later in the program for the immutable parameters describing the model.\n",
    "        \n",
    "        The design ensures that all fields require exlicit checks.\n",
    "        \"\"\"\n",
    "        for field in self._fields:\n",
    "            if field == 'periods':\n",
    "                attr = getattr(self, field)\n",
    "                assert isinstance(attr, int)\n",
    "                assert attr > 0\n",
    "            elif field == 'rho':\n",
    "                attr = getattr(self, field)\n",
    "                assert isinstance(attr, float)\n",
    "            else:\n",
    "                raise NotImplementedError('validation of {:} missing'.format(field))\n",
    "    \n",
    "    def __repr__(self):\n",
    "        \"\"\"Provides a string representation of the model speficiation for\n",
    "        quick visual inspection.\n",
    "        \"\"\"\n",
    "        str_ = ''\n",
    "        for field in self._fields:\n",
    "            str_ +='{:}: {:}\\n'.format(field, getattr(self, field))\n",
    "        return str_\n",
    "    \n",
    "    def __eq__(self, other):\n",
    "        \"\"\"Check the equality of two model specifications.\n",
    "        \n",
    "        Returns true if two model specificaions have the same fields defined\n",
    "        and all have the same value.\n",
    "        \n",
    "        Args:\n",
    "            other: A ModelSpec instance.\n",
    "        \n",
    "        Returns:\n",
    "            A boolean corresponding to equality of specifications.\n",
    "        \n",
    "        \"\"\"\n",
    "        assert isinstance(other, type(self))\n",
    "        assert set(spec_1._fields) == set(spec_2._fields)\n",
    "        for field in self._fields:\n",
    "            if getattr(self, field) != getattr(other, field):\n",
    "                return False\n",
    "        return True\n",
    " \n",
    "    def __ne__(self, other):\n",
    "        \"\"\"Check the inequality of two model specification.\"\"\"\n",
    "        return not self.__eq__(other)\n",
    "    \n",
    "def generate_random_model_specification(constr=None):\n",
    "    \"\"\"Create a random model specifaction.\n",
    "    \n",
    "    Creates a random specification of the model which is useful \n",
    "    for testing the robustness of implementation and testing\n",
    "    in general.\n",
    "    \n",
    "    Args:\n",
    "        constr: A dictionary that contains the requested constrains.\n",
    "            The keys correspond to the field that is set to the value\n",
    "            field.\n",
    "            \n",
    "            {'periods': 4, 'rho': 0.4}\n",
    "    \"\"\"\n",
    "    def process_constraints(constr):\n",
    "        \"\"\"Impose a constraint on initialization dictionary.\n",
    "        \n",
    "        This function processes all constraints passed in by the user \n",
    "        for the random model specification.\n",
    "        \n",
    "        Args:\n",
    "            constr: A dictionary which contsins \n",
    "        \n",
    "        \"\"\" \n",
    "        if constr is None:\n",
    "            constr = dict()\n",
    "            \n",
    "        if constr.get('periods'):\n",
    "            init_dict['periods'] = constr['periods']\n",
    "        if constr.get('rho'):\n",
    "            init_dict['rho'] = constr['rho']\n",
    "    \n",
    "    init_dict = dict()\n",
    "    init_dict['rho'] = np.random.uniform(0.01, 0.99)\n",
    "    init_dict['periods'] = np.random.randint(1, 10)\n",
    "        \n",
    "    process_constraints(constr)\n",
    "        \n",
    "    return init_dict\n",
    "    \n",
    "def get_model_obj(source=None, constr=None):\n",
    "    \"\"\"Get model specification.\n",
    "    \n",
    "    This is a factory method to create a model spefication from\n",
    "    a variety of differnt input types.\n",
    "    \n",
    "    Args:\n",
    "        input: str, dictionary, None specifying the input for\n",
    "            for the model specification.\n",
    "        constr: A dictionary with the constraints imposed\n",
    "            on a random initialization file.\n",
    "    \n",
    "    Returns:\n",
    "        An instance of the ModelSpec class with the model\n",
    "        specifiation.\n",
    "    \"\"\"    \n",
    "    # We want to enforce the use of Path objects going forward.\n",
    "    if isinstance(source, str):\n",
    "        source = pathlib.Path(source)\n",
    " \n",
    "    if isinstance(source, dict):\n",
    "        model_spec = ModelSpec(**source)\n",
    "    elif isinstance(source, pathlib.PosixPath):\n",
    "        model_spec = ModelSpec(**yaml.load(open(source, 'r'), Loader=yaml.FullLoader))\n",
    "    elif source is None:\n",
    "        model_spec = ModelSpec(**generate_random_model_specification(constr))\n",
    "    else:\n",
    "        raise NotImplementedError\n",
    "    \n",
    "    # We validate our model specification once and for all.\n",
    "    model_spec.validate()\n",
    "\n",
    "    return model_spec"
   ]
  },
  {
   "cell_type": "markdown",
   "metadata": {},
   "source": [
    "## Use cases \n",
    "\n",
    "We want to explore some use cases with a basic model and translate them into tests."
   ]
  },
  {
   "cell_type": "markdown",
   "metadata": {},
   "source": [
    "We can specify a model programmatically using a dictionary."
   ]
  },
  {
   "cell_type": "code",
   "execution_count": 2,
   "metadata": {},
   "outputs": [],
   "source": [
    "init_dict = {'rho': 0.5, 'periods': 10}\n",
    "get_model_obj(init_dict);"
   ]
  },
  {
   "cell_type": "markdown",
   "metadata": {},
   "source": [
    "As an alternative we can also read it in from a *.yml* file."
   ]
  },
  {
   "cell_type": "code",
   "execution_count": 3,
   "metadata": {},
   "outputs": [],
   "source": [
    "# %load model_spec.yml\n",
    "periods: 2\n",
    "rho: 0.5\n",
    "    \n",
    "get_model_obj('model_spec.yml');"
   ]
  },
  {
   "cell_type": "markdown",
   "metadata": {},
   "source": [
    "* We want to be able to update the parameters of the model specification during an optimization."
   ]
  },
  {
   "cell_type": "code",
   "execution_count": 4,
   "metadata": {},
   "outputs": [],
   "source": [
    "spec_1 = get_model_obj(None)\n",
    "spec_2 = spec_1.replace(rho=0.9)"
   ]
  },
  {
   "cell_type": "markdown",
   "metadata": {},
   "source": [
    "* We want to easily compare different model specifications."
   ]
  },
  {
   "cell_type": "code",
   "execution_count": 5,
   "metadata": {},
   "outputs": [],
   "source": [
    "spec_1 = get_model_obj(None)\n",
    "assert spec_1 != spec_1.replace(rho=0.9)\n",
    "\n",
    "spec_1 = get_model_obj(None)\n",
    "spec_2 = spec_1.copy()\n",
    "assert spec_1 == spec_2"
   ]
  },
  {
   "cell_type": "markdown",
   "metadata": {},
   "source": [
    "* We want to be able to go back and forth between the different ways a model is stored."
   ]
  },
  {
   "cell_type": "code",
   "execution_count": 6,
   "metadata": {},
   "outputs": [],
   "source": [
    "for _ in range(100):\n",
    "    spec_1 = get_model_obj(None)\n",
    "    spec_1.to_yaml()\n",
    "\n",
    "    spec_2 = get_model_obj('test.yml')\n",
    "    assert spec_1 == spec_2\n",
    "\n",
    "    spec_3 = get_model_obj(pathlib.Path('test.yml'))\n",
    "    assert spec_1 == spec_3\n",
    "    \n",
    "    spec_4 = get_model_obj(spec_1.as_dict())\n",
    "    assert spec_1 == spec_4"
   ]
  },
  {
   "cell_type": "markdown",
   "metadata": {},
   "source": [
    "* We want to easily validate the integrity of our model specification."
   ]
  },
  {
   "cell_type": "code",
   "execution_count": 7,
   "metadata": {},
   "outputs": [],
   "source": [
    "for _ in range(100):\n",
    "    spec = get_model_obj(None)\n",
    "    spec.validate()"
   ]
  },
  {
   "cell_type": "markdown",
   "metadata": {},
   "source": [
    "* We want to easily access all fields."
   ]
  },
  {
   "cell_type": "code",
   "execution_count": 8,
   "metadata": {},
   "outputs": [],
   "source": [
    "for _ in range(100):\n",
    "    spec = get_model_obj(None)\n",
    "    for field in spec._fields:\n",
    "        field, getattr(spec, field)"
   ]
  },
  {
   "cell_type": "markdown",
   "metadata": {},
   "source": [
    "* We want to easily inspect the model specification."
   ]
  },
  {
   "cell_type": "code",
   "execution_count": 9,
   "metadata": {},
   "outputs": [
    {
     "name": "stdout",
     "output_type": "stream",
     "text": [
      "rho: 0.3973099843123803\n",
      "periods: 7\n",
      "\n"
     ]
    }
   ],
   "source": [
    "spec = get_model_obj(None)\n",
    "print(spec)"
   ]
  },
  {
   "cell_type": "markdown",
   "metadata": {},
   "source": [
    "* We do not want to change parts of our model specification by accident."
   ]
  },
  {
   "cell_type": "code",
   "execution_count": 10,
   "metadata": {},
   "outputs": [],
   "source": [
    "spec = get_model_obj(None)\n",
    "\n",
    "# We cannot change a field already defined.\n",
    "with np.testing.assert_raises(AttributeError):\n",
    "    spec.periods = 1\n",
    "\n",
    "# We cannot add a field dynamically.\n",
    "spec_1 = spec.copy()\n",
    "spec.period = 1 \n",
    "# Note that the statement above does not throw an error though.\n",
    "# It simply does not have any effect\n",
    "assert set(spec._fields) == set(['rho', 'periods'])"
   ]
  },
  {
   "cell_type": "markdown",
   "metadata": {},
   "source": [
    "## Integration\n",
    "\n",
    "This model class can then be used to work with the specified model."
   ]
  },
  {
   "cell_type": "code",
   "execution_count": 12,
   "metadata": {},
   "outputs": [],
   "source": [
    "def simulate(model_spec):\n",
    "    \"\"\"This function simulates a simple AR(1) process.\"\"\"\n",
    "    assert isinstance(model_spec, ModelSpec)\n",
    "    \n",
    "    sequence = np.tile(np.nan, model_spec.periods)\n",
    "    sequence[0] = 0\n",
    "    for i in range(1, model_spec.periods):\n",
    "        sequence[i] = np.random.normal() + model_spec.rho * sequence[i - 1]\n",
    "    return sequence\n",
    "\n",
    "model_spec = get_model_obj('test.yml')\n",
    "simulate(model_spec);"
   ]
  },
  {
   "cell_type": "markdown",
   "metadata": {},
   "source": [
    "We can then combine the testing features."
   ]
  },
  {
   "cell_type": "code",
   "execution_count": 13,
   "metadata": {},
   "outputs": [],
   "source": [
    "for _ in range(100):\n",
    "    rslt = simulate(get_model_obj(None))\n",
    "    assert np.isnan(rslt).any() == False"
   ]
  },
  {
   "cell_type": "markdown",
   "metadata": {},
   "source": [
    "# Additional resources\n",
    "\n",
    "* https://paramtools.readthedocs.io is an attempt to conduct a similar effort. It appears general in the sense that the constraints we define in the validate() method are specified in an external file thus increaseing portability across different model types. This is worthwile to follow along."
   ]
  }
 ],
 "metadata": {
  "kernelspec": {
   "display_name": "Python 3",
   "language": "python",
   "name": "python3"
  },
  "language_info": {
   "codemirror_mode": {
    "name": "ipython",
    "version": 3
   },
   "file_extension": ".py",
   "mimetype": "text/x-python",
   "name": "python",
   "nbconvert_exporter": "python",
   "pygments_lexer": "ipython3",
   "version": "3.7.2"
  }
 },
 "nbformat": 4,
 "nbformat_minor": 2
}
