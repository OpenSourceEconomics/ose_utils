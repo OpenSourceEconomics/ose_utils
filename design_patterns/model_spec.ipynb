{
 "cells": [
  {
   "cell_type": "markdown",
   "metadata": {},
   "source": [
    "This notebook hosts some ideas for how to set up a model specification in our OSE projects."
   ]
  },
  {
   "cell_type": "code",
   "execution_count": 8,
   "metadata": {},
   "outputs": [
    {
     "name": "stdout",
     "output_type": "stream",
     "text": [
      "rho: 5\n",
      "periods: 6\n",
      "\n"
     ]
    }
   ],
   "source": [
    "from collections import namedtuple\n",
    "import yaml\n",
    "\n",
    "import numpy as np\n",
    "\n",
    "# TODO: add naming conventions\n",
    "\n",
    "# This is where once and for all the model parameters are defined.\n",
    "fields = ['rho', 'periods']\n",
    "\n",
    "class ModelCls(namedtuple('model_base', ' '.join(fields))):\n",
    " \n",
    "    def __eq__(self, other):\n",
    "        assert isinstance(other, type(self))\n",
    "        assert set(spec_1._fields) == set(spec_2._fields)\n",
    "        for field in self._fields:\n",
    "            if getattr(self, field) != getattr(other, field):\n",
    "                return False\n",
    "        return True\n",
    "    \n",
    "    def __ne__(self, other):\n",
    "        return not self.__eq__(other)\n",
    "    \n",
    "    def __repr__(self):\n",
    "        str_ = ''\n",
    "        for field in self._fields:\n",
    "            str_ +='{:}: {:}\\n'.format(field, getattr(self, field))\n",
    "        return str_\n",
    "    \n",
    "    def as_dict(self):\n",
    "        return self._asdict()\n",
    "    \n",
    "    def to_yaml(self, fname='test.yml'):\n",
    "        with open(fname, 'w') as out_file:\n",
    "            yaml.dump(self._asdict(), out_file)\n",
    "\n",
    "def generate_random_init(constr):\n",
    "    init_dict = dict()\n",
    "    init_dict['rho'] = np.random.uniform(0.01, 0.99)\n",
    "    init_dict['periods'] = np.random.randint(1, 10)\n",
    "    \n",
    "    if 'periods' in constr.keys():\n",
    "        init_dict['periods'] = constr['periods']\n",
    "\n",
    "    if 'rho' in constr.keys():\n",
    "        init_dict['rho'] = constr['rho']\n",
    "        \n",
    "    return init_dict\n",
    "    \n",
    "    \n",
    "def get_model_obj(input_, constr=None):\n",
    "    \"\"\"This is a factory method to create a model spefication from a variety of inputs.\"\"\"    \n",
    "    if isinstance(input_, dict):\n",
    "        return ModelCls(**init_dict)\n",
    "    elif isinstance(input_, str):\n",
    "        return ModelCls(**yaml.load(open(input_, 'r'), Loader=yaml.FullLoader))\n",
    "    elif input_ is None:\n",
    "        return ModelCls(**generate_random_init(constr))\n",
    "    else:\n",
    "        raise NotImplementedError\n",
    "\n",
    "init_dict = dict()\n",
    "init_dict['rho'] = 0.5\n",
    "init_dict['periods'] = 2\n",
    "\n",
    "for input_ in [init_dict, 'model_spec.yml']:\n",
    "    get_model_obj(input_)\n",
    "    \n",
    "spec_1 = get_model_obj(init_dict)\n",
    "spec_2 = get_model_obj('model_spec.yml')\n",
    "\n",
    "spec_1.to_yaml()\n",
    "\n",
    "# This simulates the adapter to the optimizer.\n",
    "spec_3 = spec_1._replace(rho=0.9)\n",
    "spec_3 = spec_1\n",
    "\n",
    "spec_1 == spec_2\n",
    "\n",
    "constr = dict()\n",
    "constr['rho'] = 5\n",
    "spec_4 = get_model_obj(None, constr)\n",
    "print(spec_4)"
   ]
  },
  {
   "cell_type": "markdown",
   "metadata": {},
   "source": [
    "## Use cases \n",
    "\n",
    "We want to explore some use cases with a basic model and translate them into tests."
   ]
  }
 ],
 "metadata": {
  "kernelspec": {
   "display_name": "Python 3",
   "language": "python",
   "name": "python3"
  },
  "language_info": {
   "codemirror_mode": {
    "name": "ipython",
    "version": 3
   },
   "file_extension": ".py",
   "mimetype": "text/x-python",
   "name": "python",
   "nbconvert_exporter": "python",
   "pygments_lexer": "ipython3",
   "version": "3.7.2"
  }
 },
 "nbformat": 4,
 "nbformat_minor": 2
}
