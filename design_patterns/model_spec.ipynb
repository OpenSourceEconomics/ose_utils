{
 "cells": [
  {
   "cell_type": "markdown",
   "metadata": {},
   "source": [
    "This notebook hosts some ideas for how to set up a model specification in our OSE projects."
   ]
  },
  {
   "cell_type": "code",
   "execution_count": 18,
   "metadata": {},
   "outputs": [],
   "source": [
    "import typing\n",
    "\n",
    "class model_spec(typing.NamedTuple):\n",
    "    \n",
    "    def initialize(self, input_):\n",
    "        \"\"\"This is a factory method to initialize an model specification. See https://en.wikipedia.org/wiki/Factory_method_pattern for details on the design pattern.\"\"\"\n",
    "        if input_ is None:\n",
    "            self._get_random()\n",
    "        elif isinstance(input_, str):\n",
    "            self._from_yaml()\n",
    "        elif isinstance(input_, dict):\n",
    "            self._from_dict()\n",
    "        else:\n",
    "            raise NotImplementedError\n",
    "            \n",
    "    def _get_random(self):\n",
    "        \"\"\"Initialize a random model specifiation. This is particularly useful for testing.\"\"\"\n",
    "        pass\n",
    "    \n",
    "    def _from_yaml(self):\n",
    "        \"\"\"Initialize a model specifiation from a YAML file.\"\"\"\n",
    "        pass\n",
    "        \n",
    "    def _from_dict(self):\n",
    "        \"\"\"Initialize a model specification from a dictionary.\"\"\"\n",
    "        pass\n",
    "    \n",
    "    def to_yaml(self):\n",
    "        \"\"\"Write out model specification to a YAML file.\"\"\"\n",
    "        pass\n",
    "    \n",
    "    def get_dict(self):\n",
    "        \"\"\"Get a deep copy of the model specification as a dictionary.\"\"\"\n",
    "        pass\n",
    "        \n",
    "model = model_spec()"
   ]
  },
  {
   "cell_type": "markdown",
   "metadata": {},
   "source": [
    "## Ideas to explore\n",
    "\n",
    "* Can we use the inherited `__eq__()` method to compre model specifications?\n",
    "\n",
    "* Do we need to improve on the inherited `__print__()` method?\n",
    "\n",
    "## Problems to solve\n",
    "\n",
    "* How to pass in constraints for the random generation of model specifications?"
   ]
  },
  {
   "cell_type": "markdown",
   "metadata": {},
   "source": [
    "## Use cases \n",
    "\n",
    "We want to explore some use cases with a basic model. I am not sure how to best choose a toy model, maybe an AR(1) process of a certain length where $\\rho$ is estimated."
   ]
  }
 ],
 "metadata": {
  "kernelspec": {
   "display_name": "Python 3",
   "language": "python",
   "name": "python3"
  },
  "language_info": {
   "codemirror_mode": {
    "name": "ipython",
    "version": 3
   },
   "file_extension": ".py",
   "mimetype": "text/x-python",
   "name": "python",
   "nbconvert_exporter": "python",
   "pygments_lexer": "ipython3",
   "version": "3.7.2"
  }
 },
 "nbformat": 4,
 "nbformat_minor": 2
}
